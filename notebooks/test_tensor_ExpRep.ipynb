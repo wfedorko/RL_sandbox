{
 "cells": [
  {
   "cell_type": "code",
   "execution_count": 1,
   "metadata": {},
   "outputs": [],
   "source": [
    "import sys  \n",
    "sys.path.insert(0, '../')\n",
    "sys.path.insert(0, '../baselines')\n",
    "\n"
   ]
  },
  {
   "cell_type": "code",
   "execution_count": 2,
   "metadata": {},
   "outputs": [],
   "source": [
    "import matplotlib.pyplot as plt\n",
    "%matplotlib inline"
   ]
  },
  {
   "cell_type": "code",
   "execution_count": 3,
   "metadata": {},
   "outputs": [],
   "source": [
    "from datetime import datetime"
   ]
  },
  {
   "cell_type": "code",
   "execution_count": 4,
   "metadata": {},
   "outputs": [],
   "source": [
    "import random"
   ]
  },
  {
   "cell_type": "code",
   "execution_count": 5,
   "metadata": {},
   "outputs": [
    {
     "name": "stdout",
     "output_type": "stream",
     "text": [
      "result path is/home/wfedorko/RL_sandbox/notebooks/../results/\n"
     ]
    }
   ],
   "source": [
    "class CONFIG:\n",
    "    pass\n",
    "\n",
    "config=CONFIG()\n",
    "\n",
    "config.use_cuda=True\n",
    "config.device=\"cuda:5\"\n",
    "\n",
    "config.env_id=\"PongNoFrameskip-v4\"\n",
    "config.exp_name=config.env_id+\"-\"+datetime.now().strftime(\"%Y_%m_%d_%H:%M:%S\")\n",
    "config.result_path=%pwd \n",
    "config.result_path+= '/../results/'\n",
    "print('result path is'+config.result_path)\n",
    "\n",
    "config.learning_rate = 0.0001\n",
    "config.num_episodes = 1000\n",
    "config.gamma=0.99\n",
    "#gamma=0.85\n",
    "config.egreedy = 0.9\n",
    "config.egreedy_final = 0.01\n",
    "config.egreedy_decay = 10000\n",
    "\n",
    "config.report_interval=10\n",
    "\n",
    "config.score_to_solve = 18.0\n",
    "\n",
    "config.hidden_layer_size=512\n",
    "\n",
    "config.replay_memory_size=100000\n",
    "\n",
    "config.batch_size=32\n",
    "\n",
    "config.update_target_frequency = 5000\n",
    "\n",
    "config.clip_error=True\n",
    "config.normalize_image=True\n",
    "\n",
    "config.double_dqn=True\n",
    "\n",
    "config.save_movies=True\n",
    "\n",
    "config.save_model_frequency=10000\n",
    "\n",
    "config.resume_previous_training=False\n",
    "\n",
    "#config.memory_device=config.device\n",
    "config.memory_device='cpu'"
   ]
  },
  {
   "cell_type": "code",
   "execution_count": 6,
   "metadata": {},
   "outputs": [],
   "source": [
    "from utils.engine import Engine"
   ]
  },
  {
   "cell_type": "code",
   "execution_count": 7,
   "metadata": {},
   "outputs": [
    {
     "name": "stdout",
     "output_type": "stream",
     "text": [
      "devices: compute: cuda:5; Experience Replay: cpu\n",
      "Directory  /home/wfedorko/RL_sandbox/notebooks/../results//PongNoFrameskip-v4-2020_04_23_00:59:02  Created \n",
      "will save movies\n",
      "creating state memory with shape: [100000, 1, 84, 84]\n"
     ]
    }
   ],
   "source": [
    "my_engine=Engine(config)"
   ]
  },
  {
   "cell_type": "code",
   "execution_count": 8,
   "metadata": {},
   "outputs": [],
   "source": [
    "%load_ext line_profiler"
   ]
  },
  {
   "cell_type": "code",
   "execution_count": 9,
   "metadata": {},
   "outputs": [],
   "source": [
    "from agents.QNet_Agent import QNet_Agent\n",
    "from models.models import SimpleCNNDuelingAllMean\n",
    "from utils.ExperienceReplay import ExperienceReplay"
   ]
  },
  {
   "cell_type": "code",
   "execution_count": 10,
   "metadata": {
    "scrolled": false
   },
   "outputs": [],
   "source": [
    "## %lprun -f Engine.train_agent -f QNet_Agent.optimize -f SimpleCNNDuelingAllMean.forward -f ExperienceReplay.push -f ExperienceReplay.sample my_engine.train_agent()"
   ]
  },
  {
   "cell_type": "code",
   "execution_count": null,
   "metadata": {},
   "outputs": [],
   "source": [
    "my_engine.train_agent()"
   ]
  }
 ],
 "metadata": {
  "kernelspec": {
   "display_name": "Python 3",
   "language": "python",
   "name": "python3"
  },
  "language_info": {
   "codemirror_mode": {
    "name": "ipython",
    "version": 3
   },
   "file_extension": ".py",
   "mimetype": "text/x-python",
   "name": "python",
   "nbconvert_exporter": "python",
   "pygments_lexer": "ipython3",
   "version": "3.6.9"
  }
 },
 "nbformat": 4,
 "nbformat_minor": 4
}
